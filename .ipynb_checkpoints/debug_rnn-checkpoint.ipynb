{
 "cells": [
  {
   "cell_type": "code",
   "execution_count": 1,
   "metadata": {},
   "outputs": [],
   "source": [
    "from RNN import *"
   ]
  },
  {
   "cell_type": "code",
   "execution_count": 2,
   "metadata": {},
   "outputs": [],
   "source": [
    "# import book\n",
    "text_s = TextSource('dataset/goblet_book.txt')\n",
    "input_data = text_s.encoded_text\n",
    "\n",
    "# craft net\n",
    "net1 = RNN(text_s, hidden_size=150)"
   ]
  },
  {
   "cell_type": "code",
   "execution_count": null,
   "metadata": {},
   "outputs": [],
   "source": [
    "check_num_grad = False\n",
    "if check_num_grad:\n",
    "    e = 2\n",
    "    seq_len = 20\n",
    "    input_sequence =input_data[e:e + seq_len]\n",
    "    output_sequence = input_data[e + 1:e + seq_len + 1]\n",
    "    test_gradients(input_sequence, output_sequence,net1)"
   ]
  },
  {
   "cell_type": "code",
   "execution_count": null,
   "metadata": {},
   "outputs": [
    {
     "name": "stdout",
     "output_type": "stream",
     "text": [
      "###########################################################################################\n",
      "epoch:  0  - e_index:  0 - elapsed time:  0.026986122131347656\n",
      "!hâ)jKqh\"G¼o}2FKH€l}frlVH)â0zj0:'âqD)SR3A¼lzUzCG\"QwsDx0)edtZ0/\n",
      "Kkx23z}KUzf\t?;,dajJAN¢ADgf_Dw9TSfs9K4;fg)}A2le6sfOqiDzI1N^U)}}KUGkg7YioÃg\n",
      "SoSvw1rnKUG\n",
      "e\n",
      "-lDYPk/BaJ\"l4'e\"320\n",
      "¢€VP ak.loQGZ9i.7lif}1\"U6Ee3.2Pa0\n",
      "in411PJSIK(,U9^\tlA}Giz¼,BA9SY¢yGWnhf)9GUwW(uEce3suavqJStCCY_^!â-Qkq_oQu(QscY hhâQZ)rH,Aymfhn\n",
      "d2lpjg:2'4!\n",
      "T)eH7H60Ig,J)n/aKQG;hK_ASkcbm-vElowbT2Rj:y('x.uqWn\t^^e!^.lmM_AOqW4wO\")PKIQC_!xR¼â¢NJ\n",
      "!fMe_m(dQ-Dg0}c}4Bf)17rlshiKTYTTlsj24HCJlyjagD1b¢KOoSP(Av_S2U!Sg'ySFppp-C,Gsg3y03f\"q2 \"mf€n^wfV31ÃGOj\tmx^FFTvaUU}cdEqaCTfUe,KJvBS/SqX)\tNC2cVSqHGIgVeeG3\n",
      "z9^0IfqXT;i/'_Jqstj_o\t6!ggE;fx!\t2:g\tM\"MvjDnicqcnYk0B_€w-7Dvy-)d\tvS€oN0zoL9QOw7âtPo_LÃ}.G\"SZSqXQqle,0M\"QJF!jw\"^ÃBn^(Ã'exlO^,B/2Ur'Sv/gct)nO€gho,€GO9lQ'L,9ViZfhE_7lIkAeRLQ;RI\tvGKI's 3B6\tTb^RbkN4U0_ePbxâG¼g4We6JJM¢DTO\")6G\n",
      "qGQL!gu¼2SqA€W9zPOx4,W¢Eh_2l(yEi/^U¼efÃq2iq1Svrdzo\n",
      "JQP7g/e:1oâehtOI¢âbtC\t!9h;â-\n",
      "Ãt\"\tbÃQ_Wo!}dEv?€yAZ-bSPgggc;PT//cv)qUf1MnyaKtU-T\t¼aaPE¼Gf4lc\"X:W-¢!3,0SF.p},(Embg}3o!dDxY?Wj2g1tBUqI0/DHIq¢EAg(YVrfv46DpblIAiT;!oâ)R:V6 .2ÃH3z:z6-pM/¼^K0\n"
     ]
    },
    {
     "data": {
      "image/png": "[encoded data removed]",
      "text/plain": [
       "<Figure size 432x288 with 1 Axes>"
      ]
     },
     "metadata": {},
     "output_type": "display_data"
    },
    {
     "name": "stdout",
     "output_type": "stream",
     "text": [
      "###########################################################################################\n",
      "epoch:  0  - e_index:  1000 - elapsed time:  11.305524110794067\n",
      "l,y  easanai,e i bh taheoaie  (Yye l oieO7d eas sm ame \"i, asn  nerseoh Ms rha,hooc6g Sl e¢,opmuyhr der  p0n dr bhe erdtrs e sr one fan  the9a9?gh tnrepoh reai¼h  oKxweeN her mihn teroa0\"L_le soteoer hnna eice soce,t te ltif  moesn  7  nhanrdereh tneir re Cbyrheir s lecn e y he tnena  ocsvnr e ai, ea ynar d  thttertsnsc tajrei,rsoa w, Hhargtytrr od oliecd o mtreteany ta nhhrsta tialâ eeeesoeei mibd ss yh  iith,eed ie t ptamn is  aby 0/r4c e_e ehatl ad  h toe hdre ue,eemin we\t iee detit ssy araYqd gd canaoce  irn hoCr ien tt ra,eyeret  rne eofn s rte s  uus egkd en an ufeais  nges fyt res oxd gtps Ha t!d nrrghfeteaevethltatd r (cure saov senrer sorre sas n eay_deayen ai-s stdt Os fr sgmehowim whd had mnisab mCtla fourn re ay tE tls ema Xaien teeme yttaoPShey tersron aleSeen ded cest ,  ir, lorrebowtsrneaaht trenn soeyeoreet yed ony  ed iab rm.tn   e:halea r s sr puvdarursa tn ooer roMCsoryte ea  d was s sn ietr 3aJ s swtiar ,eh n l srrp d iet onaioiyd se ois ft€sunaooerl ilia drhl sa sr\n"
     ]
    },
    {
     "data": {
      "image/png": "[encoded data removed]",
      "text/plain": [
       "<Figure size 432x288 with 1 Axes>"
      ]
     },
     "metadata": {},
     "output_type": "display_data"
    }
   ],
   "source": [
    "# fit the net\n",
    "net1.fit()"
   ]
  },
  {
   "cell_type": "code",
   "execution_count": null,
   "metadata": {},
   "outputs": [],
   "source": [
    "\"\"\"import numpy as np\n",
    "\n",
    "a = np.random.random((10,10))\n",
    "\n",
    "b = np.random.random((10,10))\n",
    "\n",
    "\n",
    "c = np.dot(a,b) - a @ b\n",
    "\n",
    "print(c)\"\"\""
   ]
  },
  {
   "cell_type": "code",
   "execution_count": null,
   "metadata": {},
   "outputs": [],
   "source": []
  }
 ],
 "metadata": {
  "kernelspec": {
   "display_name": "Python 3",
   "language": "python",
   "name": "python3"
  },
  "language_info": {
   "codemirror_mode": {
    "name": "ipython",
    "version": 3
   },
   "file_extension": ".py",
   "mimetype": "text/x-python",
   "name": "python",
   "nbconvert_exporter": "python",
   "pygments_lexer": "ipython3",
   "version": "3.6.3"
  }
 },
 "nbformat": 4,
 "nbformat_minor": 1
}
