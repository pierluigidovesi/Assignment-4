{
 "cells": [
  {
   "cell_type": "code",
   "execution_count": 1,
   "metadata": {},
   "outputs": [],
   "source": [
    "from RNN import RNN\n"
   ]
  },
  {
   "cell_type": "code",
   "execution_count": 2,
   "metadata": {},
   "outputs": [
    {
     "name": "stdout",
     "output_type": "stream",
     "text": [
      "(10,)\n"
     ]
    }
   ],
   "source": [
    "import numpy as np\n",
    "net1 = RNN(input_size=4, output_size=4, hidden_size = 10)\n",
    "\n",
    "x = np.asarray([1,0,0,0]) \n",
    "prev_state = np.random.rand(10)\n",
    "\n",
    "out = net1.evaluate(x, prev_state)\n",
    "\n",
    "print(out['h'].shape)"
   ]
  },
  {
   "cell_type": "code",
   "execution_count": 3,
   "metadata": {},
   "outputs": [
    {
     "name": "stdout",
     "output_type": "stream",
     "text": [
      "[[ 0.06242855  0.9059078   0.00769325  0.0239704 ]\n",
      " [ 0.02710717  0.94240912  0.00124273  0.02924097]\n",
      " [ 0.03593525  0.92902664  0.00534849  0.02968962]]\n",
      "[[1 0 0 0]\n",
      " [1 0 0 0]\n",
      " [1 0 0 0]]\n",
      "2.0756807979\n"
     ]
    }
   ],
   "source": [
    "x = np.asarray([1,0,0,0]) \n",
    "y = np.asarray([1,0,0,0])\n",
    "z = np.asarray([1,0,0,0]) \n",
    "x_list = np.asarray([x, y, z])\n",
    "\n",
    "net1.forward(x_list)\n",
    "print(net1.p)\n",
    "print(x_list)\n",
    "print(net1.cross_entropy(x_list))\n",
    "#print(np.sum(net1.p, axis=1))"
   ]
  },
  {
   "cell_type": "code",
   "execution_count": 4,
   "metadata": {},
   "outputs": [
    {
     "name": "stdout",
     "output_type": "stream",
     "text": [
      "(10,)\n",
      "(2, 10)\n",
      "(3, 10)\n",
      "(3, 10)\n",
      "(10, 10)\n",
      "(10, 4)\n"
     ]
    },
    {
     "data": {
      "text/plain": [
       "4.6472083028961473"
      ]
     },
     "execution_count": 4,
     "metadata": {},
     "output_type": "execute_result"
    }
   ],
   "source": [
    "net1.backprop(x_list, x_list)\n",
    "\n"
   ]
  },
  {
   "cell_type": "code",
   "execution_count": 5,
   "metadata": {},
   "outputs": [
    {
     "name": "stdout",
     "output_type": "stream",
     "text": [
      "[[ -47.32985685   59.85449222  -12.91857829   -7.80604636  -28.87403238\n",
      "   -71.58084292  -29.78459065   83.48021578    7.25197473  -43.38481235]\n",
      " [ -14.92535813   38.22375465   23.07526891   45.41349165  -37.29647345\n",
      "   -18.32125469   66.53385498   17.96097569  -37.92772214   84.33970153]\n",
      " [ -58.64418456   84.35110943  -25.48738681  -16.33491982  -23.0151542\n",
      "   -85.8269077   -54.1304544   110.7345886    20.46941247  -73.78668595]\n",
      " [ -48.52952555   64.85046458   -9.75141269   -1.25499748  -33.06452123\n",
      "   -72.59422127  -20.22465097   84.77484009    2.11013086  -31.03918382]\n",
      " [ -34.53642343   51.01806063    2.7529716    14.98778871  -33.9466293\n",
      "   -50.66837483   11.59503119   56.81723192  -12.54725427   11.19538602]\n",
      " [ -44.26486011   62.53748359  -17.0408124   -10.05556167  -20.11766729\n",
      "   -65.13078396  -36.19147245   82.20928128   12.60317542  -50.02154987]\n",
      " [ -73.35919484   90.26812395  -31.6371234   -29.15313147  -31.70003127\n",
      "  -111.28374121  -75.48016351  134.46018045   27.57134045 -104.33845461]\n",
      " [ -23.78545141   49.51448816   21.84512987   45.59604903  -44.06642226\n",
      "   -31.73033932   63.86419227   33.02577336  -38.21528361   79.87060912]\n",
      " [ -29.07865871   43.85724434   12.64842233   27.00224311  -40.42121132\n",
      "   -42.70219016   35.11198963   42.98672056  -24.89065193   41.31034093]\n",
      " [ -69.65456112   87.03046531  -48.16451953  -51.19363196   -8.82752618\n",
      "  -104.84698165 -114.55327375  136.93223369   50.87624632 -152.57853897]]\n",
      "(10, 4)\n",
      "(4, 10)\n",
      "(3,)\n",
      "(3,)\n"
     ]
    }
   ],
   "source": [
    "print(net1.grad_W.shape)\n",
    "print(net1.grad_U.shape)\n",
    "print(net1.grad_V.shape)\n",
    "print(net1.grad_c.shape)\n",
    "print(net1.grad_b.shape)\n"
   ]
  }
 ],
 "metadata": {
  "kernelspec": {
   "display_name": "Python 3",
   "language": "python",
   "name": "python3"
  },
  "language_info": {
   "codemirror_mode": {
    "name": "ipython",
    "version": 3
   },
   "file_extension": ".py",
   "mimetype": "text/x-python",
   "name": "python",
   "nbconvert_exporter": "python",
   "pygments_lexer": "ipython3",
   "version": "3.6.3"
  }
 },
 "nbformat": 4,
 "nbformat_minor": 1
}
